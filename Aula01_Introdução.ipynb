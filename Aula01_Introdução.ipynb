{
  "nbformat": 4,
  "nbformat_minor": 0,
  "metadata": {
    "colab": {
      "provenance": [],
      "authorship_tag": "ABX9TyMFIKzT0tkFMKOMF5BoobB3",
      "include_colab_link": true
    },
    "kernelspec": {
      "name": "python3",
      "display_name": "Python 3"
    },
    "language_info": {
      "name": "python"
    }
  },
  "cells": [
    {
      "cell_type": "markdown",
      "metadata": {
        "id": "view-in-github",
        "colab_type": "text"
      },
      "source": [
        "<a href=\"https://colab.research.google.com/github/Radiukk/arquivos_aulas_LinguagemProgramacaoI/blob/main/Aula01_Introdu%C3%A7%C3%A3o.ipynb\" target=\"_parent\"><img src=\"https://colab.research.google.com/assets/colab-badge.svg\" alt=\"Open In Colab\"/></a>"
      ]
    },
    {
      "cell_type": "markdown",
      "source": [
        "# **Primeiros passos com Python**\n",
        "\n",
        "Vamos realizar os primeiros códigos com a linguagem Python para observar o funcionamento das etapas:\n",
        "\n",
        "1. Entrada\n",
        "2. Processamento\n",
        "3. Saída\n",
        "4. Comentários"
      ],
      "metadata": {
        "id": "rNH_ga7Otezq"
      }
    },
    {
      "cell_type": "code",
      "execution_count": null,
      "metadata": {
        "colab": {
          "base_uri": "https://localhost:8080/"
        },
        "id": "GoKuiWUJtYid",
        "outputId": "941609e3-d3ff-40f4-a72a-23825eec7291"
      },
      "outputs": [
        {
          "output_type": "stream",
          "name": "stdout",
          "text": [
            "Hello World!\n",
            "Hello Again.\n",
            "I like typing this\n",
            "Yay! Printing\n",
            "I'd much rather you not\n",
            "I said do not touch this\n"
          ]
        }
      ],
      "source": [
        "print(\"Hello World!\")\n",
        "print(\"Hello Again.\")\n",
        "\n",
        "print(\"I like typing this\")\n",
        "print(\"Yay! Printing\")\n",
        "\n",
        "print(\"I'd much rather you not\")\n",
        "print(\"I said do not touch this\")\n",
        "\n"
      ]
    },
    {
      "cell_type": "markdown",
      "source": [
        "# Exercicio 2 - Comentários e Cerquilhas\n",
        "\n",
        "Compreender o uso de comentários para minhas linhas de código"
      ],
      "metadata": {
        "id": "kry9jygt53t7"
      }
    },
    {
      "cell_type": "code",
      "source": [
        "# Um comentário, assim você pode ler seu programa mais tarde\n",
        "# Qualquer coisa depois de # é ignorada pelo Python\n",
        "\n",
        "print(\"I could have code like this.\") # e o comentário depois é ignorado\n",
        "\n",
        "# Você também pode usar um comentário para desabilitar um códio:\n",
        "#print(\"This won't run.\")\n",
        "\n",
        "print(\"This will run.\")\n"
      ],
      "metadata": {
        "colab": {
          "base_uri": "https://localhost:8080/"
        },
        "id": "4T3rOQx66Eio",
        "outputId": "fba570f1-5677-471f-f511-e08707844e01"
      },
      "execution_count": null,
      "outputs": [
        {
          "output_type": "stream",
          "name": "stdout",
          "text": [
            "I could have code like this.\n",
            "This will run.\n"
          ]
        }
      ]
    },
    {
      "cell_type": "markdown",
      "source": [
        "# Exercício 3 - Números e Matemática\n",
        "\n",
        "Primeiras operações matemáticas, dentro da instrução de cada dados"
      ],
      "metadata": {
        "id": "UBiawCZ-8iRW"
      }
    },
    {
      "cell_type": "code",
      "source": [
        "# Inicia com um texto sobre o que será feito no resto do programa\n",
        "print(\"I will now count my chickens:\")\n",
        "# Irá concatenar o texto entre aspas com o resultado das operaç~eos após as vírgulas\n",
        "print(\"Hens\", 25 + 30 / 6)\n",
        "print(\"Roosters\", 100 - 25 * 3 % 4)\n",
        "# Inicia com um texto sobre o que será feito no resto do programa\n",
        "print(\"Now I will count the eggs:\")\n",
        "# Irá realizar uma operação matemática\n",
        "print(3 + 2 + 1 - 5 + 4 % 2 - 1 / 4 + 6)\n",
        "# Inicia com um texto sobre o que será feito no resto do programa\n",
        "print(\"Is it true that 3 + 2 < 5 - 7?\")\n",
        "# Realizar uma operação relacionando em que o resultado é booleano\n",
        "print(3 + 2 < 5 - 7)\n",
        "# Inicia com um texto sobre o que será feito no resto do programa\n",
        "print(\"What is 3 + 5?\", 3 + 5)\n",
        "print(\"What is 5 - 7?\", 5 - 7)\n",
        "# Inicia com um texto sobre o que será feito no resto do programa\n",
        "print(\"Oh, that's why it's False.\")\n",
        "# Inicia com um texto sobre o que será feito no resto do programa\n",
        "print(\"How about some more.\")\n",
        "# Texto com operações relacionais\n",
        "print(\"Is it greater?\", 5 > -2)\n",
        "print(\"Is it greater or equal?\", 5 >= -2)\n",
        "print(\"Is it less or equal?\", 5 <= -2)"
      ],
      "metadata": {
        "colab": {
          "base_uri": "https://localhost:8080/"
        },
        "id": "u_fNuTRI88yJ",
        "outputId": "a13817fb-7f47-4c65-87e0-2b1e215ab9be"
      },
      "execution_count": null,
      "outputs": [
        {
          "output_type": "stream",
          "name": "stdout",
          "text": [
            "I will now count my chickens:\n",
            "Hens 30.0\n",
            "Roosters 97\n",
            "Now I will count the eggs:\n",
            "6.75\n",
            "Is it true that 3 + 2 < 5 - 7?\n",
            "False\n",
            "What is 3 + 5? 8\n",
            "What is 5 - 7? -2\n",
            "Oh, that's why it's False.\n",
            "How about some more.\n",
            "Is it greater? True\n",
            "Is it greater or equal? True\n",
            "Is it less or equal? False\n"
          ]
        }
      ]
    },
    {
      "cell_type": "markdown",
      "source": [
        "# Exercício 4 - Variáveis e Nomes\n",
        "\n",
        "Como declarar variáveis e seus rótulos"
      ],
      "metadata": {
        "id": "W9ZuRFKtBPpl"
      }
    },
    {
      "cell_type": "code",
      "source": [
        "cars = 100 #atribuindo um número inteiro\n",
        "spaceInACar = 4.0 #atribuindo um número real\n",
        "drivers = 30 #atribuindo um número inteiro\n",
        "passengers = 90 #atribuindo um número inteiro\n",
        "carsNotDriven = cars - drivers #operação aritmética entre inteiro e inteiro\n",
        "carsDriven = drivers #atribuição de valor entre variáveis sem operação\n",
        "carpoolCapacity = carsDriven * spaceInACar #atribuindo resultado de uma operação aritmética entre inteiro e real\n",
        "avaregePassengersPerCar = passengers / carsDriven #atribuindo o resultado de uma operação aritmética entre inteiro e inteiro\n",
        "\n",
        "print(\"There are\", cars, \"cars avaible,\")\n",
        "print(\"There are only\", drivers, \"drivers avaible.\")\n",
        "print(\"There will be\", carsNotDriven, \"empty cars today.\")\n",
        "print(\"We can transport\", carpoolCapacity, \"people today.\")\n",
        "print(\"We have\", passengers, \"to carpool today.\")\n",
        "print(\"We need to put about\", avaregePassengersPerCar, \"in each car.\")\n",
        "print(10/5)"
      ],
      "metadata": {
        "colab": {
          "base_uri": "https://localhost:8080/"
        },
        "id": "Ret6FhPwBV0I",
        "outputId": "e2a1bc62-1f08-46cc-c4f5-9131318634ff"
      },
      "execution_count": null,
      "outputs": [
        {
          "output_type": "stream",
          "name": "stdout",
          "text": [
            "There are 100 cars avaible,\n",
            "There are only 30 drivers avaible.\n",
            "There will be 70 empty cars today.\n",
            "We can transport 120.0 people today.\n",
            "We have 90 to carpool today.\n",
            "We need to put about 3.0 in each car.\n",
            "2.0\n"
          ]
        }
      ]
    }
  ]
}