{
  "nbformat": 4,
  "nbformat_minor": 0,
  "metadata": {
    "colab": {
      "provenance": [],
      "include_colab_link": true
    },
    "kernelspec": {
      "name": "python3",
      "display_name": "Python 3"
    },
    "language_info": {
      "name": "python"
    }
  },
  "cells": [
    {
      "cell_type": "markdown",
      "metadata": {
        "id": "view-in-github",
        "colab_type": "text"
      },
      "source": [
        "<a href=\"https://colab.research.google.com/github/Radiukk/arquivos_aulas_LinguagemProgramacaoI/blob/main/Aula03_Fundamentos_de_Python.ipynb\" target=\"_parent\"><img src=\"https://colab.research.google.com/assets/colab-badge.svg\" alt=\"Open In Colab\"/></a>"
      ]
    },
    {
      "cell_type": "markdown",
      "source": [
        "# **Aula 03 - Fundamentos da Linguagem Python**\n",
        "\n",
        "* Impressões de informações\n",
        "* Entradas de dados\n",
        "* Desvio Condicional"
      ],
      "metadata": {
        "id": "3JLFSMa2Sb6h"
      }
    },
    {
      "cell_type": "markdown",
      "source": [
        "## EXERCÍCIO 9 - Imprimindo, Imprimindo, Imprimindo"
      ],
      "metadata": {
        "id": "E04SDDGTS2z9"
      }
    },
    {
      "cell_type": "code",
      "execution_count": null,
      "metadata": {
        "id": "bb2CVxchS2z-"
      },
      "outputs": [],
      "source": [
        "days = \"Mon Tue Wed Thu Fri Sat Sun\"\n",
        "months = \"Jan\\nFeb\\nMar\\nApr\\nMay\\nJun\\nJul\\nAgo\\nSet\\nOut\\nNov\\nDez\"\n",
        "\n",
        "print(\"Here are the day: \", days)\n",
        "print(\"Here are the months: \", months)\n",
        "\n",
        "print(\"\"\"\n",
        "There's something going on here.\n",
        "With the three double-quotes.\n",
        "We'll be able to type as much as we like.\n",
        "Even 4 line if we want, or 5, or 6.\n",
        "\"\"\")\n"
      ]
    },
    {
      "cell_type": "markdown",
      "source": [
        "### Novidades neste exercício\n",
        "\n",
        "\n",
        "1.   Pular linhas dentro de uma variável\n",
        "```\n",
        "  nomevariavel = \"texto\\ntexto\\nmaistexto\n",
        "```\n",
        "\n",
        "2. Impressão de vária linhas\n",
        "```\n",
        "  \"\"\"\n",
        "      linhas 1 de texto\n",
        "      linhas 2 de texto  ...\n",
        "  \"\"\"\n",
        "```"
      ],
      "metadata": {
        "id": "it9Bz5VWS2z-"
      }
    },
    {
      "cell_type": "markdown",
      "source": [
        "### Erros que eu cometi neste exercício:\n",
        "\n",
        "1. Digitei coisas erradas, não estou tão bom quanto eu imaginava :(\n"
      ],
      "metadata": {
        "id": "ZpC5ujkPS2z_"
      }
    },
    {
      "cell_type": "markdown",
      "source": [
        "## EXERCÍCIO 10 - O que foi isso?"
      ],
      "metadata": {
        "id": "OVLFohUuS3NL"
      }
    },
    {
      "cell_type": "code",
      "execution_count": null,
      "metadata": {
        "id": "kFM5HCTES3NM"
      },
      "outputs": [],
      "source": [
        "tabby_cat = \"\\tI'm tabbed in.\"\n",
        "persian_cat = \"I'm split\\non a line.\"\n",
        "backslash_cat = \"I'm \\\\ a \\\\ cat.\"\n",
        "\n",
        "fat_cat = \"\"\"\n",
        "I'll do a list:\n",
        "\\t* Cat food \\t* Fishies\n",
        "\\t* Catnip\\n\\t* Grass\n",
        "\"\"\"\n",
        "\n",
        "print(tabby_cat)\n",
        "print(persian_cat)\n",
        "print(backslash_cat)\n",
        "print(fat_cat)"
      ]
    },
    {
      "cell_type": "markdown",
      "source": [
        "### Novidades neste exercício\n",
        "\n",
        "\n",
        "1.   Comando print com formação para saída de texto\n",
        "```\n",
        "\n",
        "```"
      ],
      "metadata": {
        "id": "zZ1KUeaxS3NM"
      }
    },
    {
      "cell_type": "markdown",
      "source": [
        "### Erros que eu cometi neste exercício:\n",
        "\n",
        "1.\n"
      ],
      "metadata": {
        "id": "ksl3bTH2S3NN"
      }
    },
    {
      "cell_type": "markdown",
      "source": [
        "## EXERCÍCIO 11 - Fazendo Perguntas"
      ],
      "metadata": {
        "id": "1-dMr9sSS3dI"
      }
    },
    {
      "cell_type": "code",
      "execution_count": null,
      "metadata": {
        "id": "HvBaDXAeS3dI"
      },
      "outputs": [],
      "source": [
        "print(\"How old are you?\", end=' ')\n",
        "age = input()\n",
        "print(\"How tall are you?\", end=' ')\n",
        "height = input()\n",
        "print(\"How much do you weigh?\", end=' ')\n",
        "weight = input()\n",
        "\n",
        "print(f\"So, you're {age} old, {height} tall and {weight} heavy.\")"
      ]
    },
    {
      "cell_type": "markdown",
      "source": [
        "### Novidades neste exercício\n",
        "\n",
        "\n",
        "1.   Comando print com formação para saída de texto\n",
        "```\n",
        "\n",
        "```"
      ],
      "metadata": {
        "id": "qwsktedRS3dJ"
      }
    },
    {
      "cell_type": "markdown",
      "source": [
        "### Erros que eu cometi neste exercício:\n",
        "\n",
        "1.\n"
      ],
      "metadata": {
        "id": "vg90Mk9tS3dJ"
      }
    },
    {
      "cell_type": "markdown",
      "source": [
        "## EXERCÍCIO 12 - Perguntando as pessoas"
      ],
      "metadata": {
        "id": "Zn38NRWLS3pL"
      }
    },
    {
      "cell_type": "code",
      "execution_count": null,
      "metadata": {
        "id": "vRY72WICS3pM"
      },
      "outputs": [],
      "source": [
        "age = input(\"How old are you? \")\n",
        "height = input(\"How tall are you? \")\n",
        "weight = input(\"How much do you weigh? \")\n",
        "\n",
        "print(f\"So, you're {age} old, {height} tall and {weight} heavy.\")"
      ]
    },
    {
      "cell_type": "markdown",
      "source": [
        "### Novidades neste exercício\n",
        "\n",
        "\n",
        "1.   Comando print com formação para saída de texto\n",
        "```\n",
        "\n",
        "```"
      ],
      "metadata": {
        "id": "rUBRl79PS3pM"
      }
    },
    {
      "cell_type": "markdown",
      "source": [
        "### Erros que eu cometi neste exercício:\n",
        "\n",
        "1.\n"
      ],
      "metadata": {
        "id": "wew6oDgVS3pN"
      }
    },
    {
      "cell_type": "markdown",
      "source": [
        "## EXERCÍCIO 13 - Instrução IF"
      ],
      "metadata": {
        "id": "DvkgyRApS3yt"
      }
    },
    {
      "cell_type": "code",
      "execution_count": null,
      "metadata": {
        "id": "p6PLTlQNS3yu"
      },
      "outputs": [],
      "source": [
        "people = 20\n",
        "cats = 30\n",
        "dogs = 15\n",
        "\n",
        "if people < cats:\n",
        "  print(\"Too many cats! The world is doomed!\")\n",
        "\n",
        "if people > cats:\n",
        "  print(\"Not many cats! The world is saved!\")\n",
        "\n",
        "if people < dogs:\n",
        "  print(\"The world is drooled on!\")\n",
        "\n",
        "if people > dogs:\n",
        "  print(\"The world is dry!\")\n",
        "\n",
        "dogs += 5\n",
        "\n",
        "if people >= dogs:\n",
        "  print(\"People are greater than or equal to dogs.\")\n",
        "\n",
        "if people <= dogs:\n",
        "  print(\"People are less than or equal to dogs.\")\n",
        "\n",
        "if people == dogs:\n",
        "  print(\"People are dogs.\")"
      ]
    },
    {
      "cell_type": "markdown",
      "source": [
        "### Novidades neste exercício\n",
        "\n",
        "\n",
        "1.   Comando print com formação para saída de texto\n",
        "```\n",
        "\n",
        "```"
      ],
      "metadata": {
        "id": "CFJKZ3pvS3yu"
      }
    },
    {
      "cell_type": "markdown",
      "source": [
        "### Erros que eu cometi neste exercício:\n",
        "\n",
        "1.\n"
      ],
      "metadata": {
        "id": "PWrroEfcS3yu"
      }
    },
    {
      "cell_type": "markdown",
      "source": [
        "## EXERCÍCIO 14 - Else e IF"
      ],
      "metadata": {
        "id": "uiSdkBS0SgYb"
      }
    },
    {
      "cell_type": "code",
      "execution_count": null,
      "metadata": {
        "id": "EpHBHjp4SO8N"
      },
      "outputs": [],
      "source": [
        "people = 30\n",
        "cars = 40\n",
        "trucks = 15\n",
        "\n",
        "if cars > people:\n",
        "  print(\"We should take the cars.\")\n",
        "elif cars < people:\n",
        "  print(\"We should not take the cars.\")\n",
        "else:\n",
        "  print(\"We can't decide.\")\n",
        "\n",
        "if trucks > cars:\n",
        "  print(\"That's too many trucks.\")\n",
        "elif trucks < cars:\n",
        "  print(\"Maybe we could take the trucks.\")\n",
        "else:\n",
        "  print(\"We still can't decide.\")\n",
        "\n",
        "if people > trucks:\n",
        "  print(\"Alright, let's just take the trucks.\")\n",
        "else:\n",
        "  print(\"Fine, let's stay home then.\")"
      ]
    },
    {
      "cell_type": "markdown",
      "source": [
        "### Novidades neste exercício\n",
        "\n",
        "\n",
        "1.   Comando print com formação para saída de texto\n",
        "```\n",
        "\n",
        "```"
      ],
      "metadata": {
        "id": "_b_4JVNlfpO0"
      }
    },
    {
      "cell_type": "markdown",
      "source": [
        "### Erros que eu cometi neste exercício:\n",
        "\n",
        "1.\n"
      ],
      "metadata": {
        "id": "wNLS-EwvgM9L"
      }
    },
    {
      "cell_type": "markdown",
      "source": [
        "## EXERCÍCIO 15 - Tomando Decisões"
      ],
      "metadata": {
        "id": "OlX5SjporaQz"
      }
    },
    {
      "cell_type": "code",
      "execution_count": null,
      "metadata": {
        "colab": {
          "base_uri": "https://localhost:8080/"
        },
        "id": "OCNU8cgCraQ1",
        "outputId": "5bdfbe5b-1dcb-4609-82e7-442bf71f14f3"
      },
      "outputs": [
        {
          "output_type": "stream",
          "name": "stdout",
          "text": [
            "You enter a dark room with two doors.\n",
            "         Do you go through door #1 or door #2?\n",
            "> 1\n",
            "There's a giant bear here eating a cheese cake.\n",
            "What do you do?\n",
            "1. Take the cake.\n",
            "2. Scream at the bear.\n",
            "> 2\n",
            "The bear eats your legs off. Good job!\n"
          ]
        }
      ],
      "source": [
        "print(\"\"\"You enter a dark room with two doors.\n",
        "         Do you go through door #1 or door #2?\"\"\")\n",
        "\n",
        "door = input(\"> \")\n",
        "\n",
        "if door == \"1\":\n",
        "  print(\"There's a giant bear here eating a cheese cake.\")\n",
        "  print(\"What do you do?\")\n",
        "  print(\"1. Take the cake.\")\n",
        "  print(\"2. Scream at the bear.\")\n",
        "\n",
        "  bear = input(\"> \")\n",
        "\n",
        "  if bear == \"1\":\n",
        "    print(\"The bear eats your face off. Good job!\")\n",
        "  elif bear == \"2\":\n",
        "    print(\"The bear eats your legs off. Good job!\")\n",
        "  else:\n",
        "    print(f\"Well, doing {bear} is probably better.\")\n",
        "    print(\"Bear runs away.\")\n",
        "\n",
        "elif door == \"2\":\n",
        "  print(\"You stare into the endless abyss at Cthulhu's retina.\")\n",
        "  print(\"1. Blueberries.\")\n",
        "  print(\"2. Yellow jacket clothespins.\")\n",
        "  print(\"3. Understanding revolvers yelling melodies.\")\n",
        "\n",
        "  insanity = input(\"> \")\n",
        "\n",
        "  if insanity == \"1\" or insanity == \"2\":\n",
        "    print(\"Your body survives powered by a mind of jello.\")\n",
        "    print(\"Good job!\")\n",
        "  else:\n",
        "    print(\"The insanity rots your eyes into a pool of muck.\")\n",
        "    print(\"Good job!\")\n",
        "\n",
        "else:\n",
        "  print(\"You stumble around and fall on a knife and die. Good job!\")"
      ]
    },
    {
      "cell_type": "markdown",
      "source": [
        "### Novidades neste exercício\n",
        "\n",
        "\n",
        "1.   Comando print com formação para saída de texto\n",
        "```\n",
        "\n",
        "```"
      ],
      "metadata": {
        "id": "c5ZnYDeCraQ2"
      }
    },
    {
      "cell_type": "markdown",
      "source": [
        "### Erros que eu cometi neste exercício:\n",
        "\n",
        "1.\n"
      ],
      "metadata": {
        "id": "I2R2VUTOraQ3"
      }
    },
    {
      "cell_type": "code",
      "source": [
        "people = 30\n",
        "cars = 40\n",
        "trucks = 15\n",
        "\n",
        "if cars > people:\n",
        "  print(\"1\")\n",
        "  print(\"2\")\n",
        "\n",
        "\n",
        "\n",
        "\n",
        "\n",
        "\n",
        "\n",
        "  print(\"We should take the cars.\")"
      ],
      "metadata": {
        "colab": {
          "base_uri": "https://localhost:8080/"
        },
        "id": "SRdUaPHY0Qrm",
        "outputId": "4fce1528-1552-43d6-b58b-1f02da30f4af"
      },
      "execution_count": null,
      "outputs": [
        {
          "output_type": "stream",
          "name": "stdout",
          "text": [
            "1\n",
            "2\n",
            "We should take the cars.\n"
          ]
        }
      ]
    },
    {
      "cell_type": "markdown",
      "source": [
        "# teste com saida de texto"
      ],
      "metadata": {
        "id": "tDveHUyVBNCW"
      }
    },
    {
      "cell_type": "code",
      "source": [
        "nome = \"Bruno\"\n",
        "sobrenome = \"Radiuk\"\n",
        "idade = 20\n",
        "altura = 181\n",
        "peso = 58\n",
        "profissao = \"Assistente administrativo\"\n",
        "\n",
        "\n",
        "\n",
        "print(\"O meu nome é {} {}, tenho {} anos, minha altura é {}cm e meu peso é {}kg. Hoje trabalho como {}.\".format(nome, sobrenome,idade,altura,peso,profissao))\n",
        "\n",
        "# lucas dos santos\n"
      ],
      "metadata": {
        "colab": {
          "base_uri": "https://localhost:8080/"
        },
        "id": "qDcYb2KNBPo_",
        "outputId": "8a25fd88-9f84-418f-b005-0b1bc5ae8d55"
      },
      "execution_count": null,
      "outputs": [
        {
          "output_type": "stream",
          "name": "stdout",
          "text": [
            "O meu nome é Bruno Radiuk, tenho 20 anos, minha altura é 181cm e meu peso é 58kg. Hoje trabalho como Assistente administrativo.\n"
          ]
        }
      ]
    },
    {
      "cell_type": "markdown",
      "source": [],
      "metadata": {
        "id": "zCYhMjQjCav3"
      }
    }
  ]
}